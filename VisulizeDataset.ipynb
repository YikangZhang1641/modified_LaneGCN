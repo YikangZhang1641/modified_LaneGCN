{
 "cells": [
  {
   "cell_type": "code",
   "execution_count": null,
   "id": "2fbcb164",
   "metadata": {},
   "outputs": [],
   "source": [
    "import pickle\n",
    "import os\n",
    "\n",
    "# path = \"/home/user/Datasets/interpolated/preprocess_results_10s/test\"\n",
    "# name = \"2_480100_490100_927ZS.pkl\"\n",
    "# filepath = os.path.join(path, name)\n",
    "# f = open(filepath, 'rb')\n",
    "# data = pickle.load(f, encoding=\"latin1\")"
   ]
  },
  {
   "cell_type": "code",
   "execution_count": 2,
   "id": "357508bc",
   "metadata": {},
   "outputs": [
    {
     "data": {
      "text/plain": [
       "dict_keys(['shapes', 'idx', 'has_preds', 'gt_preds', 'steps', 'graph', 'trajs', 'ctrs', 'theta', 'rot', 'feats', 'orig'])"
      ]
     },
     "execution_count": 2,
     "metadata": {},
     "output_type": "execute_result"
    }
   ],
   "source": [
    "# data.keys()"
   ]
  },
  {
   "cell_type": "code",
   "execution_count": 6,
   "id": "1e7393dd",
   "metadata": {},
   "outputs": [],
   "source": [
    "# print(data['graph'].keys())\n",
    "# print(data['graph']['feats'][0].shape)\n",
    "# print(data['graph']['left_pairs'][0].shape)"
   ]
  },
  {
   "cell_type": "code",
   "execution_count": 7,
   "id": "0fbf041f",
   "metadata": {},
   "outputs": [
    {
     "name": "stderr",
     "output_type": "stream",
     "text": [
      "1it [00:01,  1.69s/it]\n"
     ]
    }
   ],
   "source": [
    "import torch\n",
    "from torch.utils.data import DataLoader, Sampler\n",
    "from torch.utils.data.distributed import DistributedSampler\n",
    "from tqdm import tqdm\n",
    "import sys\n",
    "from importlib import import_module\n",
    "from utils import Logger, load_pretrain, gpu, to_long,  Optimizer, StepLR\n",
    "\n",
    "from data import InteDataset\n",
    "\n",
    "root_path = '/home/user/Projects/LaneGCN_modified'\n",
    "sys.path.insert(0, root_path)\n",
    "\n",
    "model = import_module(\"lanegcn\")\n",
    "config, _, collate_fn, net, loss, post_process, opt = model.get_model(80)\n",
    "\n",
    "\n",
    "\n",
    "ckpt_path = \"/home/user/Projects/LaneGCN_modified/results/interpolated_map_results/lanegcn_10s/36.000.ckpt\"\n",
    "# ckpt_path = \"/media/drl/datas/zyk/LaneGCN/results/lanegcn/17.000.ckpt\"\n",
    "\n",
    "if not os.path.isabs(ckpt_path):\n",
    "    ckpt_path = os.path.join(config[\"save_dir\"], ckpt_path)\n",
    "ckpt = torch.load(ckpt_path, map_location=lambda storage, loc: storage)\n",
    "load_pretrain(net, ckpt[\"state_dict\"])\n",
    "net.eval()\n",
    "\n",
    "\n",
    "\n",
    "\n",
    "\n",
    "dataset = InteDataset('/home/user/Datasets/interpolated/preprocess_results_10s/tmp/')\n",
    "data_loader = DataLoader(\n",
    "    dataset,\n",
    "    batch_size=config[\"val_batch_size\"],\n",
    "    num_workers=config[\"val_workers\"],\n",
    "    collate_fn=collate_fn,\n",
    "    shuffle=True,\n",
    "    pin_memory=True,\n",
    ")\n",
    "\n",
    "# begin inference\n",
    "preds = {}\n",
    "gts = {}\n",
    "cities = {}\n",
    "\n",
    "data_list = []\n",
    "for ii, data in tqdm(enumerate(data_loader)):\n",
    "    data = dict(data)\n",
    "    with torch.no_grad():\n",
    "        output = net(data)\n",
    "        results = [x.detach().cpu().numpy() for x in output[\"reg\"]]\n"
   ]
  },
  {
   "cell_type": "code",
   "execution_count": null,
   "id": "ffc7de3a",
   "metadata": {
    "scrolled": true
   },
   "outputs": [],
   "source": []
  },
  {
   "cell_type": "code",
   "execution_count": 8,
   "id": "1c8bb49e",
   "metadata": {},
   "outputs": [
    {
     "name": "stdout",
     "output_type": "stream",
     "text": [
      "dict_keys(['pre', 'lane_idcs', 'left_pairs', 'suc', 'road_polygon', 'num_nodes', 'pre_pairs', 'ctrs', 'suc_pairs', 'right_pairs', 'feats', 'left', 'right', 'idx'])\n",
      "torch.Size([1214, 2])\n",
      "torch.Size([10, 2])\n"
     ]
    }
   ],
   "source": [
    "print(data['graph'][0].keys())\n",
    "print(data['graph'][0]['feats'].shape)\n",
    "print(data['graph'][0]['left_pairs'].shape)"
   ]
  },
  {
   "cell_type": "code",
   "execution_count": 9,
   "id": "723d34f4",
   "metadata": {},
   "outputs": [],
   "source": [
    "from lanegcn import graph_gather, actor_gather\n",
    "\n",
    "actors, actor_idcs = actor_gather(gpu(data[\"feats\"]))\n",
    "actor_ctrs = gpu(data[\"ctrs\"])\n",
    "actors = net.actor_net(actors)\n",
    "\n",
    "# construct map features\n",
    "graph = graph_gather(to_long(gpu(data[\"graph\"])))\n",
    "nodes, node_idcs, node_ctrs = net.map_net(graph)\n",
    "\n",
    "# actor-map fusion cycle \n",
    "nodes = net.a2m(nodes, graph, actors, actor_idcs, actor_ctrs)\n",
    "nodes = net.m2m(nodes, graph)\n",
    "actors = net.m2a(actors, actor_idcs, actor_ctrs, nodes, node_idcs, node_ctrs)\n",
    "actors = net.a2a(actors, actor_idcs, actor_ctrs)"
   ]
  },
  {
   "cell_type": "code",
   "execution_count": 12,
   "id": "b4055536",
   "metadata": {},
   "outputs": [
    {
     "name": "stdout",
     "output_type": "stream",
     "text": [
      "len 6\n",
      "node_ctrs[0] (1214, 2)\n",
      "[   1    2    3 ... 7283 7271 7271]\n",
      "(7284, 2)\n"
     ]
    }
   ],
   "source": [
    "print('len', len(node_ctrs))\n",
    "print('node_ctrs[0]', node_ctrs[0].cpu().numpy().shape)\n",
    "print(graph['pre'][0]['u'].cpu().numpy())\n",
    "\n",
    "all_ctrs = torch.cat(node_ctrs, 0).cpu().numpy()\n",
    "print(all_ctrs.shape)\n"
   ]
  },
  {
   "cell_type": "code",
   "execution_count": null,
   "id": "ffd3f716",
   "metadata": {},
   "outputs": [],
   "source": [
    "import matplotlib.pyplot as plt\n",
    "fig, ax = plt.subplots(1, 1, figsize=[20,20])\n",
    "pt = 0\n",
    "mp = node_ctrs[0].cpu().numpy()\n",
    "\n",
    "X = []\n",
    "Y = []\n",
    "\n",
    "for i in range(6):\n",
    "    u = graph['pre'][i]['u'].cpu().numpy()\n",
    "    print('u size:', u.shape)\n",
    "    v = graph['pre'][i]['v'].cpu().numpy()\n",
    "    X.append(all_ctrs[v][pt, 0])\n",
    "    Y.append(all_ctrs[v][pt, 1])\n",
    "    \n",
    "plt.plot(mp[:, 0], node_ctrs[0][:, 1], 'r.')\n",
    "\n",
    "# plt.plot(all_ctrs[u][:, 0], all_ctrs[u][:, 1], 'r.')\n",
    "\n",
    "# cl = ['red', 'orange', 'yellow', 'green', 'blue', 'purple']\n",
    "# plt.scatter(X, Y, s = 100, c = [cl[i] for i in range(len(X))])\n",
    "# print(X, Y)"
   ]
  },
  {
   "cell_type": "code",
   "execution_count": null,
   "id": "24bb79f4",
   "metadata": {},
   "outputs": [],
   "source": [
    "fig, ax = plt.subplots(1, 1, figsize=[20,20])\n",
    "\n",
    "u = graph['pre'][i]['u'].cpu().numpy()\n",
    "print('u size:', u.shape)\n",
    "v = graph['pre'][i]['v'].cpu().numpy()"
   ]
  }
 ],
 "metadata": {
  "kernelspec": {
   "display_name": "Python 3",
   "language": "python",
   "name": "python3"
  },
  "language_info": {
   "codemirror_mode": {
    "name": "ipython",
    "version": 3
   },
   "file_extension": ".py",
   "mimetype": "text/x-python",
   "name": "python",
   "nbconvert_exporter": "python",
   "pygments_lexer": "ipython3",
   "version": "3.7.10"
  }
 },
 "nbformat": 4,
 "nbformat_minor": 5
}
